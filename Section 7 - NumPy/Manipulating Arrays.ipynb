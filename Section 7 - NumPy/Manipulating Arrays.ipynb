{
 "cells": [
  {
   "cell_type": "code",
   "execution_count": 28,
   "id": "87455351",
   "metadata": {},
   "outputs": [
    {
     "data": {
      "application/javascript": [
       "IPython.notebook.set_autosave_interval(1000)"
      ]
     },
     "metadata": {},
     "output_type": "display_data"
    },
    {
     "name": "stdout",
     "output_type": "stream",
     "text": [
      "Autosaving every 1 seconds\n"
     ]
    }
   ],
   "source": [
    "%autosave 1\n",
    "import numpy as np\n",
    "\n",
    "a1 = np.random.randint(1, 10, size=10)\n",
    "a2 = np.random.randint(10, size=(2, 10))\n",
    "ones = np.ones(10)"
   ]
  },
  {
   "cell_type": "code",
   "execution_count": 29,
   "id": "634e11cf",
   "metadata": {},
   "outputs": [
    {
     "data": {
      "text/plain": [
       "array([9, 4, 6, 3, 6, 5, 8, 2, 6, 2])"
      ]
     },
     "execution_count": 29,
     "metadata": {},
     "output_type": "execute_result"
    }
   ],
   "source": [
    "a1"
   ]
  },
  {
   "cell_type": "code",
   "execution_count": 30,
   "id": "0e79e0ca",
   "metadata": {},
   "outputs": [
    {
     "data": {
      "text/plain": [
       "array([[1, 2, 0, 7, 1, 7, 3, 5, 8, 1],\n",
       "       [7, 1, 9, 8, 5, 8, 5, 0, 6, 4]])"
      ]
     },
     "execution_count": 30,
     "metadata": {},
     "output_type": "execute_result"
    }
   ],
   "source": [
    "a2"
   ]
  },
  {
   "cell_type": "markdown",
   "id": "11e08673",
   "metadata": {},
   "source": [
    "# Manipulating & comparing arrays\n",
    "\n",
    "> All arrays have to have the same size.\n",
    "- The term broadcasting describes how numpy treats arrays with different shapes during airithmetic operation.\n",
    "\n",
    "## Arithmetic"
   ]
  },
  {
   "cell_type": "code",
   "execution_count": 31,
   "id": "806dd246",
   "metadata": {},
   "outputs": [
    {
     "data": {
      "text/plain": [
       "array([10.,  5.,  7.,  4.,  7.,  6.,  9.,  3.,  7.,  3.])"
      ]
     },
     "execution_count": 31,
     "metadata": {},
     "output_type": "execute_result"
    }
   ],
   "source": [
    "a1 + ones"
   ]
  },
  {
   "cell_type": "code",
   "execution_count": 32,
   "id": "b32064f3",
   "metadata": {},
   "outputs": [
    {
     "data": {
      "text/plain": [
       "array([8., 3., 5., 2., 5., 4., 7., 1., 5., 1.])"
      ]
     },
     "execution_count": 32,
     "metadata": {},
     "output_type": "execute_result"
    }
   ],
   "source": [
    "a1 - ones"
   ]
  },
  {
   "cell_type": "code",
   "execution_count": 33,
   "id": "4555cd39",
   "metadata": {},
   "outputs": [
    {
     "data": {
      "text/plain": [
       "array([9., 4., 6., 3., 6., 5., 8., 2., 6., 2.])"
      ]
     },
     "execution_count": 33,
     "metadata": {},
     "output_type": "execute_result"
    }
   ],
   "source": [
    "a1 * ones"
   ]
  },
  {
   "cell_type": "code",
   "execution_count": 34,
   "id": "b82c356a",
   "metadata": {},
   "outputs": [
    {
     "data": {
      "text/plain": [
       "array([[ 9,  8,  0, 21,  6, 35, 24, 10, 48,  2],\n",
       "       [63,  4, 54, 24, 30, 40, 40,  0, 36,  8]])"
      ]
     },
     "execution_count": 34,
     "metadata": {},
     "output_type": "execute_result"
    }
   ],
   "source": [
    "a1 * a2"
   ]
  },
  {
   "cell_type": "code",
   "execution_count": 36,
   "id": "ec0ba49e",
   "metadata": {},
   "outputs": [
    {
     "data": {
      "text/plain": [
       "array([[0.11111111, 0.5       , 0.        , 2.33333333, 0.16666667,\n",
       "        1.4       , 0.375     , 2.5       , 1.33333333, 0.5       ],\n",
       "       [0.77777778, 0.25      , 1.5       , 2.66666667, 0.83333333,\n",
       "        1.6       , 0.625     , 0.        , 1.        , 2.        ]])"
      ]
     },
     "execution_count": 36,
     "metadata": {},
     "output_type": "execute_result"
    }
   ],
   "source": [
    "a2 / a1"
   ]
  },
  {
   "cell_type": "code",
   "execution_count": 38,
   "id": "697465c6",
   "metadata": {},
   "outputs": [
    {
     "data": {
      "text/plain": [
       "array([[0, 0, 0, 2, 0, 1, 0, 2, 1, 0],\n",
       "       [0, 0, 1, 2, 0, 1, 0, 0, 1, 2]])"
      ]
     },
     "execution_count": 38,
     "metadata": {},
     "output_type": "execute_result"
    }
   ],
   "source": [
    "# Floor division\n",
    "a2 // a1"
   ]
  },
  {
   "cell_type": "code",
   "execution_count": 40,
   "id": "3e07e0e9",
   "metadata": {},
   "outputs": [
    {
     "data": {
      "text/plain": [
       "array([[       1,       16,        0,      343,        1,    16807,\n",
       "            6561,       25,   262144,        1],\n",
       "       [40353607,        1,   531441,      512,    15625,    32768,\n",
       "          390625,        0,    46656,       16]])"
      ]
     },
     "execution_count": 40,
     "metadata": {},
     "output_type": "execute_result"
    }
   ],
   "source": [
    "# To the power of\n",
    "a2 ** a1"
   ]
  },
  {
   "cell_type": "code",
   "execution_count": 41,
   "id": "1e636316",
   "metadata": {},
   "outputs": [
    {
     "data": {
      "text/plain": [
       "array([81, 16, 36,  9, 36, 25, 64,  4, 36,  4])"
      ]
     },
     "execution_count": 41,
     "metadata": {},
     "output_type": "execute_result"
    }
   ],
   "source": [
    "# NumPy also has the equivalent functions for the operators.\n",
    "np.square(a1)"
   ]
  },
  {
   "cell_type": "code",
   "execution_count": 43,
   "id": "368cbf2d",
   "metadata": {},
   "outputs": [
    {
     "data": {
      "text/plain": [
       "array([[1, 2, 0, 1, 1, 2, 3, 1, 2, 1],\n",
       "       [7, 1, 3, 2, 5, 3, 5, 0, 0, 0]])"
      ]
     },
     "execution_count": 43,
     "metadata": {},
     "output_type": "execute_result"
    }
   ],
   "source": [
    "a2 % a1"
   ]
  },
  {
   "cell_type": "code",
   "execution_count": 45,
   "id": "a4d1eecc",
   "metadata": {},
   "outputs": [
    {
     "data": {
      "text/plain": [
       "array([2.19722458, 1.38629436, 1.79175947, 1.09861229, 1.79175947,\n",
       "       1.60943791, 2.07944154, 0.69314718, 1.79175947, 0.69314718])"
      ]
     },
     "execution_count": 45,
     "metadata": {},
     "output_type": "execute_result"
    }
   ],
   "source": [
    "np.log(a1)"
   ]
  },
  {
   "cell_type": "code",
   "execution_count": 46,
   "id": "dd8f0007",
   "metadata": {},
   "outputs": [
    {
     "data": {
      "text/plain": [
       "array([[2.71828183e+00, 7.38905610e+00, 1.00000000e+00, 1.09663316e+03,\n",
       "        2.71828183e+00, 1.09663316e+03, 2.00855369e+01, 1.48413159e+02,\n",
       "        2.98095799e+03, 2.71828183e+00],\n",
       "       [1.09663316e+03, 2.71828183e+00, 8.10308393e+03, 2.98095799e+03,\n",
       "        1.48413159e+02, 2.98095799e+03, 1.48413159e+02, 1.00000000e+00,\n",
       "        4.03428793e+02, 5.45981500e+01]])"
      ]
     },
     "execution_count": 46,
     "metadata": {},
     "output_type": "execute_result"
    }
   ],
   "source": [
    "np.exp(a2)"
   ]
  }
 ],
 "metadata": {
  "kernelspec": {
   "display_name": "Python 3 (ipykernel)",
   "language": "python",
   "name": "python3"
  },
  "language_info": {
   "codemirror_mode": {
    "name": "ipython",
    "version": 3
   },
   "file_extension": ".py",
   "mimetype": "text/x-python",
   "name": "python",
   "nbconvert_exporter": "python",
   "pygments_lexer": "ipython3",
   "version": "3.10.9"
  }
 },
 "nbformat": 4,
 "nbformat_minor": 5
}
