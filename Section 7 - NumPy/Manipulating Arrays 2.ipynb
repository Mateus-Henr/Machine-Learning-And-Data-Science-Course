{
 "cells": [
  {
   "cell_type": "code",
   "execution_count": 1,
   "id": "6032c1e1",
   "metadata": {},
   "outputs": [
    {
     "data": {
      "application/javascript": [
       "IPython.notebook.set_autosave_interval(1000)"
      ]
     },
     "metadata": {},
     "output_type": "display_data"
    },
    {
     "name": "stdout",
     "output_type": "stream",
     "text": [
      "Autosaving every 1 seconds\n"
     ]
    }
   ],
   "source": [
    "%autosave 1\n",
    "import numpy as np\n",
    "\n",
    "a2 = np.random.randint(1000, size=(3, 4, 5, 6, 7, 8))"
   ]
  },
  {
   "cell_type": "markdown",
   "id": "5813fa19",
   "metadata": {},
   "source": [
    "# Aggregation\n",
    "\n",
    "It means performing the same operation on a number of things.\n",
    "\n",
    "**Aggregation function:** Same function but from another library (in this case numpy) which is a lot faster."
   ]
  },
  {
   "cell_type": "code",
   "execution_count": 3,
   "id": "8d1c2f5e",
   "metadata": {},
   "outputs": [
    {
     "data": {
      "text/plain": [
       "list"
      ]
     },
     "execution_count": 3,
     "metadata": {},
     "output_type": "execute_result"
    }
   ],
   "source": [
    "listy_list = [1, 2, 3]\n",
    "type(listy_list)"
   ]
  },
  {
   "cell_type": "code",
   "execution_count": 4,
   "id": "011e1761",
   "metadata": {},
   "outputs": [
    {
     "data": {
      "text/plain": [
       "6"
      ]
     },
     "execution_count": 4,
     "metadata": {},
     "output_type": "execute_result"
    }
   ],
   "source": [
    "sum(listy_list)"
   ]
  },
  {
   "cell_type": "markdown",
   "id": "173ef8f0",
   "metadata": {},
   "source": [
    "## NumPy versions vs Python versions\n",
    "\n",
    "Use Python's methods on Python datatypes and use NumPy's methods on NumPy datatypes."
   ]
  },
  {
   "cell_type": "code",
   "execution_count": 6,
   "id": "7a32083f",
   "metadata": {},
   "outputs": [
    {
     "data": {
      "text/plain": [
       "6"
      ]
     },
     "execution_count": 6,
     "metadata": {},
     "output_type": "execute_result"
    }
   ],
   "source": [
    "np.sum(listy_list)"
   ]
  },
  {
   "cell_type": "code",
   "execution_count": 5,
   "id": "df030af6",
   "metadata": {},
   "outputs": [],
   "source": [
    "massive_array = np.random.random(10000000)"
   ]
  },
  {
   "cell_type": "code",
   "execution_count": 6,
   "id": "ed8a23e9",
   "metadata": {},
   "outputs": [
    {
     "name": "stdout",
     "output_type": "stream",
     "text": [
      "791 ms ± 66.5 ms per loop (mean ± std. dev. of 7 runs, 1 loop each)\n"
     ]
    }
   ],
   "source": [
    "%timeit sum(massive_array)"
   ]
  },
  {
   "cell_type": "code",
   "execution_count": 7,
   "id": "28348e3c",
   "metadata": {},
   "outputs": [
    {
     "name": "stdout",
     "output_type": "stream",
     "text": [
      "13.6 ms ± 245 µs per loop (mean ± std. dev. of 7 runs, 100 loops each)\n"
     ]
    }
   ],
   "source": [
    "# WAY faster than the previous function call.\n",
    "%timeit np.sum(massive_array)"
   ]
  },
  {
   "cell_type": "code",
   "execution_count": 2,
   "id": "5139bf70",
   "metadata": {},
   "outputs": [
    {
     "data": {
      "text/plain": [
       "499.63204365079366"
      ]
     },
     "execution_count": 2,
     "metadata": {},
     "output_type": "execute_result"
    }
   ],
   "source": [
    "np.mean(a2)"
   ]
  },
  {
   "cell_type": "code",
   "execution_count": 3,
   "id": "7b7816ad",
   "metadata": {},
   "outputs": [
    {
     "data": {
      "text/plain": [
       "0"
      ]
     },
     "execution_count": 3,
     "metadata": {},
     "output_type": "execute_result"
    }
   ],
   "source": [
    "np.min(a2)"
   ]
  },
  {
   "cell_type": "code",
   "execution_count": 4,
   "id": "fd7e3dc5",
   "metadata": {},
   "outputs": [
    {
     "data": {
      "text/plain": [
       "999"
      ]
     },
     "execution_count": 4,
     "metadata": {},
     "output_type": "execute_result"
    }
   ],
   "source": [
    "np.max(a2)"
   ]
  },
  {
   "cell_type": "code",
   "execution_count": 10,
   "id": "94c705eb",
   "metadata": {},
   "outputs": [
    {
     "data": {
      "text/plain": [
       "288.5950385140924"
      ]
     },
     "execution_count": 10,
     "metadata": {},
     "output_type": "execute_result"
    }
   ],
   "source": [
    "# Standard deviation is a measure of how spread out a group of number is from the mean.\n",
    "np.std(a2)"
   ]
  },
  {
   "cell_type": "code",
   "execution_count": 9,
   "id": "8f486e7e",
   "metadata": {},
   "outputs": [
    {
     "data": {
      "text/plain": [
       "83287.09625495048"
      ]
     },
     "execution_count": 9,
     "metadata": {},
     "output_type": "execute_result"
    }
   ],
   "source": [
    "# Variance is the measure of the aerage degree to which each number is different from the mean.\n",
    "# Higher variance = Wider range of numbers.\n",
    "# Lower variance = Lower range of numbers.\n",
    "np.var(a2)"
   ]
  },
  {
   "cell_type": "code",
   "execution_count": 11,
   "id": "e819c185",
   "metadata": {},
   "outputs": [
    {
     "data": {
      "text/plain": [
       "288.5950385140924"
      ]
     },
     "execution_count": 11,
     "metadata": {},
     "output_type": "execute_result"
    }
   ],
   "source": [
    "# Std\n",
    "np.sqrt(np.var(a2))"
   ]
  }
 ],
 "metadata": {
  "kernelspec": {
   "display_name": "Python 3 (ipykernel)",
   "language": "python",
   "name": "python3"
  },
  "language_info": {
   "codemirror_mode": {
    "name": "ipython",
    "version": 3
   },
   "file_extension": ".py",
   "mimetype": "text/x-python",
   "name": "python",
   "nbconvert_exporter": "python",
   "pygments_lexer": "ipython3",
   "version": "3.10.9"
  }
 },
 "nbformat": 4,
 "nbformat_minor": 5
}
