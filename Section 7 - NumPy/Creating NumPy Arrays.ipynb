{
 "cells": [
  {
   "cell_type": "code",
   "execution_count": 1,
   "id": "d5c5d35c",
   "metadata": {},
   "outputs": [
    {
     "data": {
      "application/javascript": [
       "IPython.notebook.set_autosave_interval(1000)"
      ]
     },
     "metadata": {},
     "output_type": "display_data"
    },
    {
     "name": "stdout",
     "output_type": "stream",
     "text": [
      "Autosaving every 1 seconds\n"
     ]
    }
   ],
   "source": [
    "%autosave 1\n",
    "import numpy as np"
   ]
  },
  {
   "cell_type": "markdown",
   "id": "b250abd5",
   "metadata": {},
   "source": [
    "# Creating arrays"
   ]
  },
  {
   "cell_type": "code",
   "execution_count": 2,
   "id": "a6e55e2f",
   "metadata": {},
   "outputs": [
    {
     "data": {
      "text/plain": [
       "array([1, 2, 3])"
      ]
     },
     "execution_count": 2,
     "metadata": {},
     "output_type": "execute_result"
    }
   ],
   "source": [
    "sample_array = np.array([1, 2, 3])\n",
    "sample_array"
   ]
  },
  {
   "cell_type": "code",
   "execution_count": 3,
   "id": "3b15ea9f",
   "metadata": {},
   "outputs": [
    {
     "data": {
      "text/plain": [
       "dtype('int32')"
      ]
     },
     "execution_count": 3,
     "metadata": {},
     "output_type": "execute_result"
    }
   ],
   "source": [
    "sample_array.dtype"
   ]
  },
  {
   "cell_type": "markdown",
   "id": "3a3776e3",
   "metadata": {},
   "source": [
    "> **Shift** + **Tab** displays the function's signature\n",
    "\n",
    "## Array filled with 1s or 0s\n",
    "\n",
    "- Basically, placeholder arrays."
   ]
  },
  {
   "cell_type": "code",
   "execution_count": 7,
   "id": "211d38b0",
   "metadata": {},
   "outputs": [
    {
     "data": {
      "text/plain": [
       "array([[1., 1., 1., 1.],\n",
       "       [1., 1., 1., 1.]])"
      ]
     },
     "execution_count": 7,
     "metadata": {},
     "output_type": "execute_result"
    }
   ],
   "source": [
    "ones = np.ones((2, 4))\n",
    "ones"
   ]
  },
  {
   "cell_type": "code",
   "execution_count": 8,
   "id": "5b236748",
   "metadata": {},
   "outputs": [
    {
     "data": {
      "text/plain": [
       "dtype('float64')"
      ]
     },
     "execution_count": 8,
     "metadata": {},
     "output_type": "execute_result"
    }
   ],
   "source": [
    "ones.dtype"
   ]
  },
  {
   "cell_type": "code",
   "execution_count": 9,
   "id": "b349b2ca",
   "metadata": {},
   "outputs": [
    {
     "data": {
      "text/plain": [
       "numpy.ndarray"
      ]
     },
     "execution_count": 9,
     "metadata": {},
     "output_type": "execute_result"
    }
   ],
   "source": [
    "type(ones)"
   ]
  },
  {
   "cell_type": "code",
   "execution_count": 10,
   "id": "3026ff5d",
   "metadata": {},
   "outputs": [
    {
     "data": {
      "text/plain": [
       "array([[0., 0., 0., 0.],\n",
       "       [0., 0., 0., 0.]])"
      ]
     },
     "execution_count": 10,
     "metadata": {},
     "output_type": "execute_result"
    }
   ],
   "source": [
    "zeros = np.zeros((2, 4))\n",
    "zeros"
   ]
  },
  {
   "cell_type": "code",
   "execution_count": 11,
   "id": "074b0f59",
   "metadata": {},
   "outputs": [
    {
     "data": {
      "text/plain": [
       "dtype('float64')"
      ]
     },
     "execution_count": 11,
     "metadata": {},
     "output_type": "execute_result"
    }
   ],
   "source": [
    "zeros.dtype"
   ]
  },
  {
   "cell_type": "code",
   "execution_count": 13,
   "id": "2171d335",
   "metadata": {},
   "outputs": [
    {
     "data": {
      "text/plain": [
       "numpy.ndarray"
      ]
     },
     "execution_count": 13,
     "metadata": {},
     "output_type": "execute_result"
    }
   ],
   "source": [
    "type(zeros)"
   ]
  },
  {
   "cell_type": "markdown",
   "id": "3f835279",
   "metadata": {},
   "source": [
    "## Array with numbers within a range\n",
    "\n",
    "- By default it returns 5 numbers.\n",
    "- Default step is 1."
   ]
  },
  {
   "cell_type": "code",
   "execution_count": 16,
   "id": "8536ebfc",
   "metadata": {},
   "outputs": [
    {
     "data": {
      "text/plain": [
       "array([ 1.2,  2.2,  3.2,  4.2,  5.2,  6.2,  7.2,  8.2,  9.2, 10.2])"
      ]
     },
     "execution_count": 16,
     "metadata": {},
     "output_type": "execute_result"
    }
   ],
   "source": [
    "range_array = np.arange(1.2, 10.4)\n",
    "range_array"
   ]
  },
  {
   "cell_type": "markdown",
   "id": "4c569d8a",
   "metadata": {},
   "source": [
    "## Array with random integers numbers within a range"
   ]
  },
  {
   "cell_type": "code",
   "execution_count": 20,
   "id": "fda3c9bd",
   "metadata": {},
   "outputs": [
    {
     "data": {
      "text/plain": [
       "array([[8, 4, 8, 6, 8],\n",
       "       [7, 6, 3, 6, 5],\n",
       "       [8, 4, 8, 9, 5]])"
      ]
     },
     "execution_count": 20,
     "metadata": {},
     "output_type": "execute_result"
    }
   ],
   "source": [
    "random_array = np.random.randint(2, 10, size=(3, 5))\n",
    "random_array"
   ]
  },
  {
   "cell_type": "markdown",
   "id": "59e36319",
   "metadata": {},
   "source": [
    "## Array with random float numbers"
   ]
  },
  {
   "cell_type": "code",
   "execution_count": 22,
   "id": "212ed52b",
   "metadata": {},
   "outputs": [
    {
     "data": {
      "text/plain": [
       "array([[0.69469716, 0.50310828, 0.98589573],\n",
       "       [0.93009526, 0.90313726, 0.79123023],\n",
       "       [0.92720766, 0.6437017 , 0.075873  ],\n",
       "       [0.09719318, 0.33562381, 0.28998303],\n",
       "       [0.48860769, 0.54658728, 0.67785587]])"
      ]
     },
     "execution_count": 22,
     "metadata": {},
     "output_type": "execute_result"
    }
   ],
   "source": [
    "random_float_array = np.random.random((5, 3))\n",
    "random_float_array"
   ]
  },
  {
   "cell_type": "code",
   "execution_count": 24,
   "id": "f33753b0",
   "metadata": {},
   "outputs": [
    {
     "data": {
      "text/plain": [
       "array([[0.30559687, 0.72030531, 0.79718371],\n",
       "       [0.36331972, 0.70659115, 0.07642481],\n",
       "       [0.00897948, 0.81522728, 0.92114401],\n",
       "       [0.65122084, 0.72497595, 0.77101085],\n",
       "       [0.54913072, 0.39387057, 0.41054731]])"
      ]
     },
     "execution_count": 24,
     "metadata": {},
     "output_type": "execute_result"
    }
   ],
   "source": [
    "random_float_array_2 = np.random.rand(5, 3)\n",
    "random_float_array_2"
   ]
  }
 ],
 "metadata": {
  "kernelspec": {
   "display_name": "Python 3 (ipykernel)",
   "language": "python",
   "name": "python3"
  },
  "language_info": {
   "codemirror_mode": {
    "name": "ipython",
    "version": 3
   },
   "file_extension": ".py",
   "mimetype": "text/x-python",
   "name": "python",
   "nbconvert_exporter": "python",
   "pygments_lexer": "ipython3",
   "version": "3.10.9"
  }
 },
 "nbformat": 4,
 "nbformat_minor": 5
}
