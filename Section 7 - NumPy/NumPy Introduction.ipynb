{
 "cells": [
  {
   "cell_type": "markdown",
   "id": "c96e1e09",
   "metadata": {},
   "source": [
    "# Why to use NumPy?\n",
    "\n",
    "- NumPy offers list functions and functions to convert data to machine language.\n",
    "- It's widely used due to the fact that it was written in C, and because of that performs better than Python's functions for operations on lists (since C is faster than Python).\n",
    "\n",
    "# What is NumPy?\n",
    "\n",
    "- NumPy is a library that converts data to numbers, so that the comuter can interpret those numbers to find patterns.\n",
    "- It's also a Data Analysis tool.\n",
    "- It uses vectorization via broadcasting, in other words, it avoids loops.\n",
    "- It's the backbone of other common used Python libraries."
   ]
  }
 ],
 "metadata": {
  "kernelspec": {
   "display_name": "Python 3 (ipykernel)",
   "language": "python",
   "name": "python3"
  },
  "language_info": {
   "codemirror_mode": {
    "name": "ipython",
    "version": 3
   },
   "file_extension": ".py",
   "mimetype": "text/x-python",
   "name": "python",
   "nbconvert_exporter": "python",
   "pygments_lexer": "ipython3",
   "version": "3.10.9"
  }
 },
 "nbformat": 4,
 "nbformat_minor": 5
}
