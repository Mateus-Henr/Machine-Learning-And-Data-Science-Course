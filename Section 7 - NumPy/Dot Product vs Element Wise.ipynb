{
 "cells": [
  {
   "cell_type": "code",
   "execution_count": 9,
   "id": "dc588e2c",
   "metadata": {},
   "outputs": [
    {
     "data": {
      "application/javascript": [
       "IPython.notebook.set_autosave_interval(1000)"
      ]
     },
     "metadata": {},
     "output_type": "display_data"
    },
    {
     "name": "stdout",
     "output_type": "stream",
     "text": [
      "Autosaving every 1 seconds\n"
     ]
    }
   ],
   "source": [
    "%autosave 1\n",
    "\n",
    "import numpy as np\n",
    "\n",
    "np.random.seed(0)\n",
    "mat1 = np.random.randint(100, size=(5, 3))\n",
    "mat2 = np.random.randint(100, size=(5, 3))"
   ]
  },
  {
   "cell_type": "code",
   "execution_count": 10,
   "id": "a5c6a9be",
   "metadata": {},
   "outputs": [
    {
     "data": {
      "text/plain": [
       "array([[44, 47, 64],\n",
       "       [67, 67,  9],\n",
       "       [83, 21, 36],\n",
       "       [87, 70, 88],\n",
       "       [88, 12, 58]])"
      ]
     },
     "execution_count": 10,
     "metadata": {},
     "output_type": "execute_result"
    }
   ],
   "source": [
    "mat1"
   ]
  },
  {
   "cell_type": "code",
   "execution_count": 11,
   "id": "3014a7b3",
   "metadata": {},
   "outputs": [
    {
     "data": {
      "text/plain": [
       "array([[65, 39, 87],\n",
       "       [46, 88, 81],\n",
       "       [37, 25, 77],\n",
       "       [72,  9, 20],\n",
       "       [80, 69, 79]])"
      ]
     },
     "execution_count": 11,
     "metadata": {},
     "output_type": "execute_result"
    }
   ],
   "source": [
    "mat2"
   ]
  },
  {
   "cell_type": "markdown",
   "id": "c41a02c9",
   "metadata": {},
   "source": [
    "# Hadamard product"
   ]
  },
  {
   "cell_type": "code",
   "execution_count": 13,
   "id": "9e153314",
   "metadata": {},
   "outputs": [
    {
     "data": {
      "text/plain": [
       "array([[2860, 1833, 5568],\n",
       "       [3082, 5896,  729],\n",
       "       [3071,  525, 2772],\n",
       "       [6264,  630, 1760],\n",
       "       [7040,  828, 4582]])"
      ]
     },
     "execution_count": 13,
     "metadata": {},
     "output_type": "execute_result"
    }
   ],
   "source": [
    "mat1 * mat2"
   ]
  },
  {
   "cell_type": "markdown",
   "id": "6a497d8c",
   "metadata": {},
   "source": [
    "# Dot product\n",
    "\n",
    "- Multiplies the rows of the first matrix by the columns of the second. Because of that, the number of rows of the first matrix must be equal to the number of columns of the second.\n",
    "\n",
    "![dot-product](resources/dot-product.png)"
   ]
  },
  {
   "cell_type": "code",
   "execution_count": 17,
   "id": "13c8c497",
   "metadata": {},
   "outputs": [
    {
     "data": {
      "text/plain": [
       "((5, 3), (3, 5))"
      ]
     },
     "execution_count": 17,
     "metadata": {},
     "output_type": "execute_result"
    }
   ],
   "source": [
    "mat1.shape, mat2.T.shape"
   ]
  },
  {
   "cell_type": "code",
   "execution_count": 16,
   "id": "05d44a45",
   "metadata": {},
   "outputs": [
    {
     "data": {
      "text/plain": [
       "array([[10261, 11344,  7731,  4871, 11819],\n",
       "       [ 7751,  9707,  4847,  5607, 10694],\n",
       "       [ 9346,  8582,  6368,  6885, 10933],\n",
       "       [16041, 17290, 11745,  8654, 18742],\n",
       "       [11234,  9802,  8022,  7604, 12450]])"
      ]
     },
     "execution_count": 16,
     "metadata": {},
     "output_type": "execute_result"
    }
   ],
   "source": [
    "# One of the situations where you would use transpose.\n",
    "np.dot(mat1, mat2.T)"
   ]
  }
 ],
 "metadata": {
  "kernelspec": {
   "display_name": "Python 3 (ipykernel)",
   "language": "python",
   "name": "python3"
  },
  "language_info": {
   "codemirror_mode": {
    "name": "ipython",
    "version": 3
   },
   "file_extension": ".py",
   "mimetype": "text/x-python",
   "name": "python",
   "nbconvert_exporter": "python",
   "pygments_lexer": "ipython3",
   "version": "3.10.9"
  }
 },
 "nbformat": 4,
 "nbformat_minor": 5
}
