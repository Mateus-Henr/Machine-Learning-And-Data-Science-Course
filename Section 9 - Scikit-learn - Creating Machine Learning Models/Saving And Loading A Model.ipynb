{
 "cells": [
  {
   "metadata": {},
   "cell_type": "markdown",
   "source": [
    "# 6. Saving and Loading Trained Machine Learning Models\n",
    "\n",
    "Two ways:\n",
    "1. Python's `picle` module\n",
    "2. Python's `joblib` module"
   ],
   "id": "87967b6f70f33906"
  },
  {
   "metadata": {
    "ExecuteTime": {
     "end_time": "2024-06-15T15:17:53.448911Z",
     "start_time": "2024-06-15T15:17:52.192537Z"
    }
   },
   "cell_type": "code",
   "source": [
    "from sklearn.metrics import accuracy_score, precision_score, recall_score, f1_score\n",
    "\n",
    "\n",
    "def evaluate_preds(y_true, y_pred):\n",
    "    accuracy = accuracy_score(y_true, y_pred)\n",
    "    precision = precision_score(y_true, y_pred)\n",
    "    recall = recall_score(y_true, y_pred)\n",
    "    f1 = f1_score(y_true, y_pred)\n",
    "\n",
    "    metric_dict = {\"accuracy\": round(accuracy, 2), \"precision\": round(precision, 2), \"recall\": round(recall, 2),\n",
    "                   \"f1\": round(f1, 2)}\n",
    "\n",
    "    print(f\"Accuracy: {accuracy * 100:.2f}%\")\n",
    "    print(f\"Precision: {precision:.2f}%\")\n",
    "    print(f\"Recall: {recall:.2f}%\")\n",
    "    print(f\"F1: {f1:.2f}%\")\n",
    "\n",
    "    return metric_dict"
   ],
   "id": "4df072bc5057c063",
   "outputs": [],
   "execution_count": 1
  },
  {
   "metadata": {
    "ExecuteTime": {
     "end_time": "2024-06-15T15:17:54.428560Z",
     "start_time": "2024-06-15T15:17:53.452920Z"
    }
   },
   "cell_type": "code",
   "source": [
    "from sklearn.model_selection import train_test_split\n",
    "import pandas as pd\n",
    "import numpy as np\n",
    "from sklearn.ensemble import RandomForestClassifier\n",
    "from sklearn.metrics import accuracy_score, precision_score, recall_score, f1_score\n",
    "\n",
    "# Set random seed for reproducibility\n",
    "np.random.seed(42)\n",
    "\n",
    "# Load the data\n",
    "heart_disease = pd.read_csv(\"resources/heart-disease.csv\")\n",
    "\n",
    "# Shuffle the data\n",
    "heart_disease_shuffled = heart_disease.sample(frac=1, random_state=42)\n",
    "\n",
    "# Split into X and y\n",
    "X = heart_disease_shuffled.drop(\"target\", axis=1)\n",
    "y = heart_disease_shuffled[\"target\"]\n",
    "\n",
    "# Split into training and test sets\n",
    "X_train, X_test, y_train, y_test = train_test_split(X, y, test_size=0.2, random_state=42)\n",
    "\n",
    "# Initialize and train the model\n",
    "clf = RandomForestClassifier(n_estimators=100, min_samples_split=6, min_samples_leaf=2, max_depth=30, random_state=42)\n",
    "clf.fit(X_train, y_train)\n",
    "\n",
    "# Make predictions\n",
    "y_preds = clf.predict(X_test)\n",
    "\n",
    "# Evaluate predictions\n",
    "metrics = evaluate_preds(y_test, y_preds)"
   ],
   "id": "6605ef9b71281f69",
   "outputs": [
    {
     "name": "stdout",
     "output_type": "stream",
     "text": [
      "Accuracy: 81.97%\n",
      "Precision: 0.77%\n",
      "Recall: 0.86%\n",
      "F1: 0.81%\n"
     ]
    }
   ],
   "execution_count": 2
  },
  {
   "metadata": {},
   "cell_type": "markdown",
   "source": "## Picle",
   "id": "3626c4b90640ea3f"
  },
  {
   "metadata": {},
   "cell_type": "markdown",
   "source": "### Saving",
   "id": "a3a4e1db943f1e27"
  },
  {
   "metadata": {
    "ExecuteTime": {
     "end_time": "2024-06-15T15:17:54.445893Z",
     "start_time": "2024-06-15T15:17:54.430085Z"
    }
   },
   "cell_type": "code",
   "source": [
    "import pickle\n",
    "\n",
    "pickle.dump(clf, open(\"models/clf.pk1\", \"wb\"))"
   ],
   "id": "59580e741e26f9d5",
   "outputs": [],
   "execution_count": 3
  },
  {
   "metadata": {},
   "cell_type": "markdown",
   "source": "### Loading",
   "id": "185e106c8b9c4c8a"
  },
  {
   "metadata": {
    "ExecuteTime": {
     "end_time": "2024-06-15T15:17:54.472717Z",
     "start_time": "2024-06-15T15:17:54.448901Z"
    }
   },
   "cell_type": "code",
   "source": "loaded_model = pickle.load(open(\"models/clf.pk1\", \"rb\"))",
   "id": "d44e04ed8628d3fe",
   "outputs": [],
   "execution_count": 4
  },
  {
   "metadata": {},
   "cell_type": "markdown",
   "source": "### Making predictions",
   "id": "dae55475a660f186"
  },
  {
   "metadata": {
    "ExecuteTime": {
     "end_time": "2024-06-15T15:17:54.513298Z",
     "start_time": "2024-06-15T15:17:54.474731Z"
    }
   },
   "cell_type": "code",
   "source": [
    "y_preds = loaded_model.predict(X_test)\n",
    "evaluate_preds(y_test, y_preds)"
   ],
   "id": "ad8b54b0aa7862c8",
   "outputs": [
    {
     "name": "stdout",
     "output_type": "stream",
     "text": [
      "Accuracy: 81.97%\n",
      "Precision: 0.77%\n",
      "Recall: 0.86%\n",
      "F1: 0.81%\n"
     ]
    },
    {
     "data": {
      "text/plain": [
       "{'accuracy': 0.82, 'precision': 0.77, 'recall': 0.86, 'f1': 0.81}"
      ]
     },
     "execution_count": 5,
     "metadata": {},
     "output_type": "execute_result"
    }
   ],
   "execution_count": 5
  },
  {
   "metadata": {},
   "cell_type": "markdown",
   "source": "## Joblib (Preferable)",
   "id": "6325274271f457a1"
  },
  {
   "metadata": {},
   "cell_type": "markdown",
   "source": "## Saving",
   "id": "96f961223a7baa0c"
  },
  {
   "metadata": {
    "ExecuteTime": {
     "end_time": "2024-06-15T15:20:30.270103Z",
     "start_time": "2024-06-15T15:20:30.213874Z"
    }
   },
   "cell_type": "code",
   "source": [
    "from joblib import dump, load\n",
    "\n",
    "dump(clf, filename=\"models/clf.joblib\")"
   ],
   "id": "d4fa15e02c6262a7",
   "outputs": [
    {
     "data": {
      "text/plain": [
       "['models/clf.joblib']"
      ]
     },
     "execution_count": 8,
     "metadata": {},
     "output_type": "execute_result"
    }
   ],
   "execution_count": 8
  },
  {
   "metadata": {},
   "cell_type": "markdown",
   "source": "## Loading",
   "id": "67377aa66922c0f9"
  },
  {
   "metadata": {
    "ExecuteTime": {
     "end_time": "2024-06-15T15:21:04.491105Z",
     "start_time": "2024-06-15T15:21:04.359511Z"
    }
   },
   "cell_type": "code",
   "source": "joblib_loaded_model = load(\"models/clf.joblib\")",
   "id": "1ab18c59499864ae",
   "outputs": [],
   "execution_count": 9
  },
  {
   "metadata": {
    "ExecuteTime": {
     "end_time": "2024-06-15T15:21:46.591551Z",
     "start_time": "2024-06-15T15:21:46.562442Z"
    }
   },
   "cell_type": "code",
   "source": [
    "y_preds = joblib_loaded_model.predict(X_test)\n",
    "\n",
    "evaluate_preds(y_test, y_preds)"
   ],
   "id": "2da7aef52d5cf978",
   "outputs": [
    {
     "name": "stdout",
     "output_type": "stream",
     "text": [
      "Accuracy: 81.97%\n",
      "Precision: 0.77%\n",
      "Recall: 0.86%\n",
      "F1: 0.81%\n"
     ]
    },
    {
     "data": {
      "text/plain": [
       "{'accuracy': 0.82, 'precision': 0.77, 'recall': 0.86, 'f1': 0.81}"
      ]
     },
     "execution_count": 12,
     "metadata": {},
     "output_type": "execute_result"
    }
   ],
   "execution_count": 12
  }
 ],
 "metadata": {
  "kernelspec": {
   "display_name": "Python 3",
   "language": "python",
   "name": "python3"
  },
  "language_info": {
   "codemirror_mode": {
    "name": "ipython",
    "version": 2
   },
   "file_extension": ".py",
   "mimetype": "text/x-python",
   "name": "python",
   "nbconvert_exporter": "python",
   "pygments_lexer": "ipython2",
   "version": "2.7.6"
  }
 },
 "nbformat": 4,
 "nbformat_minor": 5
}
