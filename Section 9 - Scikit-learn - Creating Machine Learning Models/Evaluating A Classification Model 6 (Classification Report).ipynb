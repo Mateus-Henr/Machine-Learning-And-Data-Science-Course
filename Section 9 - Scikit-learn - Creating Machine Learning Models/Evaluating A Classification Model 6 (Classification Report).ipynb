{
 "cells": [
  {
   "cell_type": "code",
   "execution_count": 2,
   "id": "initial_id",
   "metadata": {
    "collapsed": true,
    "ExecuteTime": {
     "end_time": "2024-04-06T18:20:26.608418Z",
     "start_time": "2024-04-06T18:20:26.579829Z"
    }
   },
   "outputs": [
    {
     "data": {
      "application/javascript": "IPython.notebook.set_autosave_interval(1000)"
     },
     "metadata": {},
     "output_type": "display_data"
    },
    {
     "name": "stdout",
     "output_type": "stream",
     "text": [
      "Autosaving every 1 seconds\n"
     ]
    }
   ],
   "source": [
    "%autosave 1\n",
    "import pandas as pd\n",
    "import numpy as np\n",
    "from sklearn.model_selection import train_test_split\n",
    "from sklearn.metrics import classification_report"
   ]
  },
  {
   "cell_type": "code",
   "outputs": [],
   "source": [
    "heart_disease = pd.read_csv(\"resources/heart-disease.csv\")\n",
    "\n",
    "# Prepare data\n",
    "X = heart_disease.drop(\"target\", axis=1)\n",
    "y = heart_disease[\"target\"]\n",
    "\n",
    "X_train, X_test, y_train, y_test = train_test_split(X, y, test_size=0.2)\n",
    "\n",
    "# Import the model\n",
    "from sklearn.ensemble import RandomForestClassifier\n",
    "\n",
    "# Instatiate the model\n",
    "clf = RandomForestClassifier()\n",
    "\n",
    "# Fit the model\n",
    "clf.fit(X_train, y_train)\n",
    "\n",
    "from sklearn.metrics import confusion_matrix\n",
    "\n",
    "y_preds = clf.predict(X_test)"
   ],
   "metadata": {
    "collapsed": false,
    "ExecuteTime": {
     "end_time": "2024-04-06T18:20:52.670796Z",
     "start_time": "2024-04-06T18:20:47.034955Z"
    }
   },
   "id": "73926db1c270c6b",
   "execution_count": 3
  },
  {
   "cell_type": "code",
   "outputs": [
    {
     "name": "stdout",
     "output_type": "stream",
     "text": [
      "              precision    recall  f1-score   support\n",
      "\n",
      "           0       0.71      0.85      0.77        20\n",
      "           1       0.92      0.83      0.87        41\n",
      "\n",
      "    accuracy                           0.84        61\n",
      "   macro avg       0.81      0.84      0.82        61\n",
      "weighted avg       0.85      0.84      0.84        61\n"
     ]
    }
   ],
   "source": [
    "print(classification_report(y_test, y_preds))"
   ],
   "metadata": {
    "collapsed": false,
    "ExecuteTime": {
     "end_time": "2024-04-06T18:21:11.270164Z",
     "start_time": "2024-04-06T18:21:11.226217Z"
    }
   },
   "id": "89e1d965c4117b8a",
   "execution_count": 5
  },
  {
   "cell_type": "markdown",
   "source": [
    "![classification](resources/classification-report.png)"
   ],
   "metadata": {
    "collapsed": false
   },
   "id": "e9f4b8560404224a"
  },
  {
   "cell_type": "code",
   "outputs": [
    {
     "name": "stderr",
     "output_type": "stream",
     "text": [
      "C:\\Users\\matts\\AppData\\Local\\Programs\\Python\\Python39\\lib\\site-packages\\sklearn\\metrics\\_classification.py:1509: UndefinedMetricWarning: Precision is ill-defined and being set to 0.0 in labels with no predicted samples. Use `zero_division` parameter to control this behavior.\n",
      "  _warn_prf(average, modifier, f\"{metric.capitalize()} is\", len(result))\n",
      "C:\\Users\\matts\\AppData\\Local\\Programs\\Python\\Python39\\lib\\site-packages\\sklearn\\metrics\\_classification.py:1509: UndefinedMetricWarning: Precision is ill-defined and being set to 0.0 in labels with no predicted samples. Use `zero_division` parameter to control this behavior.\n",
      "  _warn_prf(average, modifier, f\"{metric.capitalize()} is\", len(result))\n",
      "C:\\Users\\matts\\AppData\\Local\\Programs\\Python\\Python39\\lib\\site-packages\\sklearn\\metrics\\_classification.py:1509: UndefinedMetricWarning: Precision is ill-defined and being set to 0.0 in labels with no predicted samples. Use `zero_division` parameter to control this behavior.\n",
      "  _warn_prf(average, modifier, f\"{metric.capitalize()} is\", len(result))\n"
     ]
    },
    {
     "data": {
      "text/plain": "                  0.0  1.0  accuracy     macro avg  weighted avg\nprecision     0.99990  0.0    0.9999      0.499950       0.99980\nrecall        1.00000  0.0    0.9999      0.500000       0.99990\nf1-score      0.99995  0.0    0.9999      0.499975       0.99985\nsupport    9999.00000  1.0    0.9999  10000.000000   10000.00000",
      "text/html": "<div>\n<style scoped>\n    .dataframe tbody tr th:only-of-type {\n        vertical-align: middle;\n    }\n\n    .dataframe tbody tr th {\n        vertical-align: top;\n    }\n\n    .dataframe thead th {\n        text-align: right;\n    }\n</style>\n<table border=\"1\" class=\"dataframe\">\n  <thead>\n    <tr style=\"text-align: right;\">\n      <th></th>\n      <th>0.0</th>\n      <th>1.0</th>\n      <th>accuracy</th>\n      <th>macro avg</th>\n      <th>weighted avg</th>\n    </tr>\n  </thead>\n  <tbody>\n    <tr>\n      <th>precision</th>\n      <td>0.99990</td>\n      <td>0.0</td>\n      <td>0.9999</td>\n      <td>0.499950</td>\n      <td>0.99980</td>\n    </tr>\n    <tr>\n      <th>recall</th>\n      <td>1.00000</td>\n      <td>0.0</td>\n      <td>0.9999</td>\n      <td>0.500000</td>\n      <td>0.99990</td>\n    </tr>\n    <tr>\n      <th>f1-score</th>\n      <td>0.99995</td>\n      <td>0.0</td>\n      <td>0.9999</td>\n      <td>0.499975</td>\n      <td>0.99985</td>\n    </tr>\n    <tr>\n      <th>support</th>\n      <td>9999.00000</td>\n      <td>1.0</td>\n      <td>0.9999</td>\n      <td>10000.000000</td>\n      <td>10000.00000</td>\n    </tr>\n  </tbody>\n</table>\n</div>"
     },
     "execution_count": 11,
     "metadata": {},
     "output_type": "execute_result"
    }
   ],
   "source": [
    "# Analyzing precision and recall\n",
    "disease_true = np.zeros(10000)\n",
    "disease_true[0] = 1\n",
    "\n",
    "disease_preds = np.zeros(10000)\n",
    "\n",
    "pd.DataFrame(classification_report(disease_true,\n",
    "                                   disease_preds,\n",
    "                                   output_dict=True))"
   ],
   "metadata": {
    "collapsed": false,
    "ExecuteTime": {
     "end_time": "2024-04-06T21:35:39.159955Z",
     "start_time": "2024-04-06T21:35:38.994096Z"
    }
   },
   "id": "d8086b568281327a",
   "execution_count": 11
  }
 ],
 "metadata": {
  "kernelspec": {
   "display_name": "Python 3",
   "language": "python",
   "name": "python3"
  },
  "language_info": {
   "codemirror_mode": {
    "name": "ipython",
    "version": 2
   },
   "file_extension": ".py",
   "mimetype": "text/x-python",
   "name": "python",
   "nbconvert_exporter": "python",
   "pygments_lexer": "ipython2",
   "version": "2.7.6"
  }
 },
 "nbformat": 4,
 "nbformat_minor": 5
}
