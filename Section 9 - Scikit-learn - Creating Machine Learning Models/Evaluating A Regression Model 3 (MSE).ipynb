{
 "cells": [
  {
   "cell_type": "code",
   "execution_count": 2,
   "id": "initial_id",
   "metadata": {
    "collapsed": true,
    "ExecuteTime": {
     "end_time": "2024-04-07T21:54:15.903781Z",
     "start_time": "2024-04-07T21:54:11.664371Z"
    }
   },
   "outputs": [
    {
     "data": {
      "application/javascript": "IPython.notebook.set_autosave_interval(1000)"
     },
     "metadata": {},
     "output_type": "display_data"
    },
    {
     "name": "stdout",
     "output_type": "stream",
     "text": [
      "Autosaving every 1 seconds\n"
     ]
    }
   ],
   "source": [
    "from sklearn.ensemble import RandomForestRegressor\n",
    "%autosave 1\n",
    "import pandas as pd\n",
    "import numpy as np\n",
    "from sklearn.model_selection import train_test_split"
   ]
  },
  {
   "cell_type": "code",
   "outputs": [],
   "source": [
    "np.random.seed(42)\n",
    "\n",
    "from sklearn.datasets import fetch_california_housing \n",
    "housing = fetch_california_housing()\n",
    "housing_df = pd.DataFrame(housing[\"data\"], columns=housing[\"feature_names\"])\n",
    "\n",
    "X = housing_df\n",
    "y = housing[\"target\"]\n",
    "\n",
    "X_train, X_test, y_train, y_test = train_test_split(X, y, test_size=0.2)\n",
    "\n",
    "model = RandomForestRegressor(n_estimators=100)\n",
    "model.fit(X_train, y_train);"
   ],
   "metadata": {
    "collapsed": false,
    "ExecuteTime": {
     "end_time": "2024-04-07T21:54:40.184906Z",
     "start_time": "2024-04-07T21:54:16.667921Z"
    }
   },
   "id": "ab3aaa80a79df269",
   "execution_count": 3
  },
  {
   "cell_type": "markdown",
   "source": [
    "## Mean Squared Error (MSE)\n",
    "\n",
    "MSE is the mean of the square of the errors between actual and predicted values. "
   ],
   "metadata": {
    "collapsed": false
   },
   "id": "b5caecd66f24f1a0"
  },
  {
   "cell_type": "code",
   "outputs": [
    {
     "data": {
      "text/plain": "0.2534678520824551"
     },
     "execution_count": 5,
     "metadata": {},
     "output_type": "execute_result"
    }
   ],
   "source": [
    "from sklearn.metrics import mean_squared_error\n",
    "\n",
    "y_preds = model.predict(X_test)\n",
    "mse = mean_squared_error(y_test, y_preds)\n",
    "mse"
   ],
   "metadata": {
    "collapsed": false,
    "ExecuteTime": {
     "end_time": "2024-04-07T22:08:37.143122Z",
     "start_time": "2024-04-07T22:08:36.871242Z"
    }
   },
   "id": "961ec894c0185dca",
   "execution_count": 5
  },
  {
   "cell_type": "code",
   "outputs": [
    {
     "data": {
      "text/plain": "   actual values  predicted values  differences  squared differences\n0        0.47700          0.493840     0.016840             0.000284\n1        0.45800          0.754940     0.296940             0.088173\n2        5.00001          4.928596    -0.071414             0.005100\n3        2.18600          2.543160     0.357160             0.127563\n4        2.78000          2.331760    -0.448240             0.200919",
      "text/html": "<div>\n<style scoped>\n    .dataframe tbody tr th:only-of-type {\n        vertical-align: middle;\n    }\n\n    .dataframe tbody tr th {\n        vertical-align: top;\n    }\n\n    .dataframe thead th {\n        text-align: right;\n    }\n</style>\n<table border=\"1\" class=\"dataframe\">\n  <thead>\n    <tr style=\"text-align: right;\">\n      <th></th>\n      <th>actual values</th>\n      <th>predicted values</th>\n      <th>differences</th>\n      <th>squared differences</th>\n    </tr>\n  </thead>\n  <tbody>\n    <tr>\n      <th>0</th>\n      <td>0.47700</td>\n      <td>0.493840</td>\n      <td>0.016840</td>\n      <td>0.000284</td>\n    </tr>\n    <tr>\n      <th>1</th>\n      <td>0.45800</td>\n      <td>0.754940</td>\n      <td>0.296940</td>\n      <td>0.088173</td>\n    </tr>\n    <tr>\n      <th>2</th>\n      <td>5.00001</td>\n      <td>4.928596</td>\n      <td>-0.071414</td>\n      <td>0.005100</td>\n    </tr>\n    <tr>\n      <th>3</th>\n      <td>2.18600</td>\n      <td>2.543160</td>\n      <td>0.357160</td>\n      <td>0.127563</td>\n    </tr>\n    <tr>\n      <th>4</th>\n      <td>2.78000</td>\n      <td>2.331760</td>\n      <td>-0.448240</td>\n      <td>0.200919</td>\n    </tr>\n  </tbody>\n</table>\n</div>"
     },
     "execution_count": 7,
     "metadata": {},
     "output_type": "execute_result"
    }
   ],
   "source": [
    "df = pd.DataFrame(data={\"actual values\": y_test,\n",
    "                        \"predicted values\": y_preds})\n",
    "df[\"differences\"] = df[\"predicted values\"] - df[\"actual values\"]\n",
    "df[\"squared differences\"] = np.square(df[\"differences\"])\n",
    "\n",
    "df.head()"
   ],
   "metadata": {
    "collapsed": false,
    "ExecuteTime": {
     "end_time": "2024-04-07T22:09:43.801563Z",
     "start_time": "2024-04-07T22:09:43.762909Z"
    }
   },
   "id": "3b745bfa5716d111",
   "execution_count": 7
  },
  {
   "cell_type": "code",
   "outputs": [
    {
     "data": {
      "text/plain": "0.2534678520824551"
     },
     "execution_count": 8,
     "metadata": {},
     "output_type": "execute_result"
    }
   ],
   "source": [
    "df[\"squared differences\"].mean()"
   ],
   "metadata": {
    "collapsed": false,
    "ExecuteTime": {
     "end_time": "2024-04-07T22:10:39.961218Z",
     "start_time": "2024-04-07T22:10:39.945806Z"
    }
   },
   "id": "78621018dbcdc25f",
   "execution_count": 8
  },
  {
   "cell_type": "code",
   "outputs": [],
   "source": [
    "df_large_error = df.copy()\n",
    "df_large_error.loc[0, \"squared differences\"] = 16"
   ],
   "metadata": {
    "collapsed": false,
    "ExecuteTime": {
     "end_time": "2024-04-07T22:14:21.752932Z",
     "start_time": "2024-04-07T22:14:21.736579Z"
    }
   },
   "id": "ff03647a0e842f3c",
   "execution_count": 11
  },
  {
   "cell_type": "code",
   "outputs": [
    {
     "data": {
      "text/plain": "   actual values  predicted values  differences  squared differences\n0        0.47700          0.493840     0.016840            16.000000\n1        0.45800          0.754940     0.296940             0.088173\n2        5.00001          4.928596    -0.071414             0.005100\n3        2.18600          2.543160     0.357160             0.127563\n4        2.78000          2.331760    -0.448240             0.200919",
      "text/html": "<div>\n<style scoped>\n    .dataframe tbody tr th:only-of-type {\n        vertical-align: middle;\n    }\n\n    .dataframe tbody tr th {\n        vertical-align: top;\n    }\n\n    .dataframe thead th {\n        text-align: right;\n    }\n</style>\n<table border=\"1\" class=\"dataframe\">\n  <thead>\n    <tr style=\"text-align: right;\">\n      <th></th>\n      <th>actual values</th>\n      <th>predicted values</th>\n      <th>differences</th>\n      <th>squared differences</th>\n    </tr>\n  </thead>\n  <tbody>\n    <tr>\n      <th>0</th>\n      <td>0.47700</td>\n      <td>0.493840</td>\n      <td>0.016840</td>\n      <td>16.000000</td>\n    </tr>\n    <tr>\n      <th>1</th>\n      <td>0.45800</td>\n      <td>0.754940</td>\n      <td>0.296940</td>\n      <td>0.088173</td>\n    </tr>\n    <tr>\n      <th>2</th>\n      <td>5.00001</td>\n      <td>4.928596</td>\n      <td>-0.071414</td>\n      <td>0.005100</td>\n    </tr>\n    <tr>\n      <th>3</th>\n      <td>2.18600</td>\n      <td>2.543160</td>\n      <td>0.357160</td>\n      <td>0.127563</td>\n    </tr>\n    <tr>\n      <th>4</th>\n      <td>2.78000</td>\n      <td>2.331760</td>\n      <td>-0.448240</td>\n      <td>0.200919</td>\n    </tr>\n  </tbody>\n</table>\n</div>"
     },
     "execution_count": 12,
     "metadata": {},
     "output_type": "execute_result"
    }
   ],
   "source": [
    "df_large_error.head()"
   ],
   "metadata": {
    "collapsed": false,
    "ExecuteTime": {
     "end_time": "2024-04-07T22:14:42.884231Z",
     "start_time": "2024-04-07T22:14:42.844659Z"
    }
   },
   "id": "f7472dd888ed0070",
   "execution_count": 12
  },
  {
   "cell_type": "code",
   "outputs": [
    {
     "data": {
      "text/plain": "0.2573437523766412"
     },
     "execution_count": 14,
     "metadata": {},
     "output_type": "execute_result"
    }
   ],
   "source": [
    "df_large_error[\"squared differences\"].mean()"
   ],
   "metadata": {
    "collapsed": false,
    "ExecuteTime": {
     "end_time": "2024-04-07T22:15:20.157364Z",
     "start_time": "2024-04-07T22:15:20.138306Z"
    }
   },
   "id": "9900bcc7e0e4b656",
   "execution_count": 14
  },
  {
   "cell_type": "markdown",
   "source": [
    "![metrics](resources/metrics.png)"
   ],
   "metadata": {
    "collapsed": false
   },
   "id": "5c6f371ac4283de9"
  },
  {
   "cell_type": "code",
   "outputs": [],
   "source": [],
   "metadata": {
    "collapsed": false
   },
   "id": "aedf79c3c72a1dc"
  }
 ],
 "metadata": {
  "kernelspec": {
   "display_name": "Python 3",
   "language": "python",
   "name": "python3"
  },
  "language_info": {
   "codemirror_mode": {
    "name": "ipython",
    "version": 2
   },
   "file_extension": ".py",
   "mimetype": "text/x-python",
   "name": "python",
   "nbconvert_exporter": "python",
   "pygments_lexer": "ipython2",
   "version": "2.7.6"
  }
 },
 "nbformat": 4,
 "nbformat_minor": 5
}
