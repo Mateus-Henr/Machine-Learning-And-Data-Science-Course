{
 "cells": [
  {
   "cell_type": "code",
   "execution_count": 1,
   "id": "initial_id",
   "metadata": {
    "collapsed": true,
    "ExecuteTime": {
     "end_time": "2024-04-07T21:40:01.250811Z",
     "start_time": "2024-04-07T21:39:57.152551Z"
    }
   },
   "outputs": [
    {
     "data": {
      "application/javascript": "IPython.notebook.set_autosave_interval(1000)"
     },
     "metadata": {},
     "output_type": "display_data"
    },
    {
     "name": "stdout",
     "output_type": "stream",
     "text": [
      "Autosaving every 1 seconds\n"
     ]
    }
   ],
   "source": [
    "from sklearn.ensemble import RandomForestRegressor\n",
    "%autosave 1\n",
    "import pandas as pd\n",
    "import numpy as np\n",
    "from sklearn.model_selection import train_test_split"
   ]
  },
  {
   "cell_type": "code",
   "outputs": [],
   "source": [
    "np.random.seed(42)\n",
    "\n",
    "from sklearn.datasets import fetch_california_housing \n",
    "housing = fetch_california_housing()\n",
    "housing_df = pd.DataFrame(housing[\"data\"], columns=housing[\"feature_names\"])\n",
    "\n",
    "X = housing_df\n",
    "y = housing[\"target\"]\n",
    "\n",
    "X_train, X_test, y_train, y_test = train_test_split(X, y, test_size=0.2)\n",
    "\n",
    "model = RandomForestRegressor(n_estimators=100)\n",
    "model.fit(X_train, y_train);"
   ],
   "metadata": {
    "collapsed": false,
    "ExecuteTime": {
     "end_time": "2024-04-07T21:46:22.264543Z",
     "start_time": "2024-04-07T21:45:57.280729Z"
    }
   },
   "id": "1387f41175f1df28",
   "execution_count": 6
  },
  {
   "cell_type": "markdown",
   "source": [
    "## Mean Absolute error (MAE)\n",
    "\n",
    "It is the average of the absolute differences between predictions and actual values.\n",
    "\n",
    "It tells you how wrong your models predictions are"
   ],
   "metadata": {
    "collapsed": false
   },
   "id": "60e91e1181b539a2"
  },
  {
   "cell_type": "code",
   "outputs": [
    {
     "data": {
      "text/plain": "0.32659871732073664"
     },
     "execution_count": 7,
     "metadata": {},
     "output_type": "execute_result"
    }
   ],
   "source": [
    "from sklearn.metrics import mean_absolute_error\n",
    " \n",
    "y_preds = model.predict(X_test)\n",
    "mean_absolute_error(y_test, y_preds)"
   ],
   "metadata": {
    "collapsed": false,
    "ExecuteTime": {
     "end_time": "2024-04-07T21:47:57.416383Z",
     "start_time": "2024-04-07T21:47:57.193416Z"
    }
   },
   "id": "5233aacb752922de",
   "execution_count": 7
  },
  {
   "cell_type": "code",
   "outputs": [
    {
     "data": {
      "text/plain": "   actual values  predicted values  differences\n0        0.47700          0.493840     0.016840\n1        0.45800          0.754940     0.296940\n2        5.00001          4.928596    -0.071414\n3        2.18600          2.543160     0.357160\n4        2.78000          2.331760    -0.448240",
      "text/html": "<div>\n<style scoped>\n    .dataframe tbody tr th:only-of-type {\n        vertical-align: middle;\n    }\n\n    .dataframe tbody tr th {\n        vertical-align: top;\n    }\n\n    .dataframe thead th {\n        text-align: right;\n    }\n</style>\n<table border=\"1\" class=\"dataframe\">\n  <thead>\n    <tr style=\"text-align: right;\">\n      <th></th>\n      <th>actual values</th>\n      <th>predicted values</th>\n      <th>differences</th>\n    </tr>\n  </thead>\n  <tbody>\n    <tr>\n      <th>0</th>\n      <td>0.47700</td>\n      <td>0.493840</td>\n      <td>0.016840</td>\n    </tr>\n    <tr>\n      <th>1</th>\n      <td>0.45800</td>\n      <td>0.754940</td>\n      <td>0.296940</td>\n    </tr>\n    <tr>\n      <th>2</th>\n      <td>5.00001</td>\n      <td>4.928596</td>\n      <td>-0.071414</td>\n    </tr>\n    <tr>\n      <th>3</th>\n      <td>2.18600</td>\n      <td>2.543160</td>\n      <td>0.357160</td>\n    </tr>\n    <tr>\n      <th>4</th>\n      <td>2.78000</td>\n      <td>2.331760</td>\n      <td>-0.448240</td>\n    </tr>\n  </tbody>\n</table>\n</div>"
     },
     "execution_count": 12,
     "metadata": {},
     "output_type": "execute_result"
    }
   ],
   "source": [
    "df = pd.DataFrame(data={\"actual values\": y_test,\n",
    "                        \"predicted values\": y_preds})\n",
    "df[\"differences\"] = df[\"predicted values\"] - df[\"actual values\"]\n",
    "\n",
    "df.head()"
   ],
   "metadata": {
    "collapsed": false,
    "ExecuteTime": {
     "end_time": "2024-04-07T22:09:49.668572Z",
     "start_time": "2024-04-07T22:09:49.606111Z"
    }
   },
   "id": "6fcfece6f600cc60",
   "execution_count": 12
  },
  {
   "cell_type": "code",
   "outputs": [
    {
     "data": {
      "text/plain": "0.2534678520824551"
     },
     "execution_count": 11,
     "metadata": {},
     "output_type": "execute_result"
    }
   ],
   "source": [
    "np.abs(df[\"differences\"]).mean()"
   ],
   "metadata": {
    "collapsed": false,
    "ExecuteTime": {
     "end_time": "2024-04-07T21:53:28.963597Z",
     "start_time": "2024-04-07T21:53:28.942087Z"
    }
   },
   "id": "cd2ac916fedb475c",
   "execution_count": 11
  }
 ],
 "metadata": {
  "kernelspec": {
   "display_name": "Python 3",
   "language": "python",
   "name": "python3"
  },
  "language_info": {
   "codemirror_mode": {
    "name": "ipython",
    "version": 2
   },
   "file_extension": ".py",
   "mimetype": "text/x-python",
   "name": "python",
   "nbconvert_exporter": "python",
   "pygments_lexer": "ipython2",
   "version": "2.7.6"
  }
 },
 "nbformat": 4,
 "nbformat_minor": 5
}
