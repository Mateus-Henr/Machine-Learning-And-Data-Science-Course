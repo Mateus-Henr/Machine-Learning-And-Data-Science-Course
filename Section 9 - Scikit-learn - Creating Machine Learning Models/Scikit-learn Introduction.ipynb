{
 "cells": [
  {
   "cell_type": "markdown",
   "id": "bda545bb",
   "metadata": {},
   "source": [
    "# What is Scikit-learn (sklearn)?\n",
    "\n",
    "- This is standard around the industry to build Machine Learning models.\n",
    "- It also implements tools to evaluate predictions.\n",
    "- Built on NumPy and Matplotlib.\n",
    "- It has many in-built machine learning models.\n",
    "\n",
    "## Workflow\n",
    "\n",
    "![workflow](resources/workflow.png)"
   ]
  }
 ],
 "metadata": {
  "kernelspec": {
   "display_name": "Python 3 (ipykernel)",
   "language": "python",
   "name": "python3"
  },
  "language_info": {
   "codemirror_mode": {
    "name": "ipython",
    "version": 3
   },
   "file_extension": ".py",
   "mimetype": "text/x-python",
   "name": "python",
   "nbconvert_exporter": "python",
   "pygments_lexer": "ipython3",
   "version": "3.10.9"
  }
 },
 "nbformat": 4,
 "nbformat_minor": 5
}
