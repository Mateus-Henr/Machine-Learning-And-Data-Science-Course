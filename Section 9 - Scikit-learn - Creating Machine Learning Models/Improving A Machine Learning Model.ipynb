{
 "cells": [
  {
   "cell_type": "markdown",
   "source": [
    "## 5. Improving a model\n",
    "\n",
    "*First Predictions* = Baseline predictions.\n",
    "*First Model* = Baseline model.\n",
    "\n",
    "From a data perspective:\n",
    "* Could we col collect more data?\n",
    "* Could we improve our data?\n",
    "\n",
    "From a model perspective:\n",
    "* Is there a better model we could use?\n",
    "* Could we improve the current model?\n",
    "\n",
    "*Parameters* = Model finds these patterns in data.\n",
    "*Hyperparameters* = Settings on a model you can adjust to improve its ability to find patterns.\n",
    "\n",
    "Three ways to adjust hyperparameters:\n",
    "1. By hand\n",
    "2. Randomly with RandomSearchCV\n",
    "3. Exhaustively with GridSearchCV"
   ],
   "metadata": {
    "collapsed": false
   },
   "id": "80aeaa51172fa62c"
  },
  {
   "cell_type": "code",
   "outputs": [],
   "source": [
    "from sklearn.ensemble import RandomForestClassifier\n",
    "\n",
    "clf = RandomForestClassifier()"
   ],
   "metadata": {
    "collapsed": false,
    "ExecuteTime": {
     "end_time": "2024-04-09T13:10:31.306545Z",
     "start_time": "2024-04-09T13:10:27.845566Z"
    }
   },
   "id": "3f7d1b328ba335e",
   "execution_count": 2
  },
  {
   "cell_type": "code",
   "outputs": [
    {
     "data": {
      "text/plain": "{'bootstrap': True,\n 'ccp_alpha': 0.0,\n 'class_weight': None,\n 'criterion': 'gini',\n 'max_depth': None,\n 'max_features': 'sqrt',\n 'max_leaf_nodes': None,\n 'max_samples': None,\n 'min_impurity_decrease': 0.0,\n 'min_samples_leaf': 1,\n 'min_samples_split': 2,\n 'min_weight_fraction_leaf': 0.0,\n 'monotonic_cst': None,\n 'n_estimators': 100,\n 'n_jobs': None,\n 'oob_score': False,\n 'random_state': None,\n 'verbose': 0,\n 'warm_start': False}"
     },
     "execution_count": 4,
     "metadata": {},
     "output_type": "execute_result"
    }
   ],
   "source": [
    "# Hyperparameters\n",
    "clf.get_params()"
   ],
   "metadata": {
    "collapsed": false,
    "ExecuteTime": {
     "end_time": "2024-04-09T13:10:42.208290Z",
     "start_time": "2024-04-09T13:10:42.180801Z"
    }
   },
   "id": "17415aed7a3fdad7",
   "execution_count": 4
  },
  {
   "cell_type": "markdown",
   "source": [
    "![hyperparameters](resources/hyperparameters.png)"
   ],
   "metadata": {
    "collapsed": false
   },
   "id": "f2bf901e3c754d67"
  }
 ],
 "metadata": {
  "kernelspec": {
   "display_name": "Python 3",
   "language": "python",
   "name": "python3"
  },
  "language_info": {
   "codemirror_mode": {
    "name": "ipython",
    "version": 2
   },
   "file_extension": ".py",
   "mimetype": "text/x-python",
   "name": "python",
   "nbconvert_exporter": "python",
   "pygments_lexer": "ipython2",
   "version": "2.7.6"
  }
 },
 "nbformat": 4,
 "nbformat_minor": 5
}
