{
 "cells": [
  {
   "cell_type": "markdown",
   "id": "c39fd91c",
   "metadata": {},
   "source": [
    "# What's Matplotlib?\n",
    "\n",
    "- It allows us to turn our data into plots and figures.\n",
    "- Also built on top of NumPy arrays.\n",
    "- Integrates directly with pandas."
   ]
  },
  {
   "cell_type": "markdown",
   "id": "97da624d",
   "metadata": {},
   "source": [
    "## Matplotlib workflow\n",
    "\n",
    "![workflow](resources/workflow.png)"
   ]
  }
 ],
 "metadata": {
  "kernelspec": {
   "display_name": "Python 3 (ipykernel)",
   "language": "python",
   "name": "python3"
  },
  "language_info": {
   "codemirror_mode": {
    "name": "ipython",
    "version": 3
   },
   "file_extension": ".py",
   "mimetype": "text/x-python",
   "name": "python",
   "nbconvert_exporter": "python",
   "pygments_lexer": "ipython3",
   "version": "3.10.9"
  }
 },
 "nbformat": 4,
 "nbformat_minor": 5
}
