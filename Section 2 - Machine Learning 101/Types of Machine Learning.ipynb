{
 "cells": [
  {
   "cell_type": "markdown",
   "id": "6b443d75",
   "metadata": {},
   "source": [
    "# Types\n",
    "\n",
    "**Supervised:** The data already have categories. There's a person that checks if the machine got it right.\n",
    "- **Classification:** When the data is divided in two groups.\n",
    "- **Regression:** Predictions.\n",
    "\n",
    "**Unsupervised:** The data don't have categories. We let the machines decide what's right or wrong.\n",
    "- **Clustering:** The machine creates the groups.\n",
    "- **Association Rule Learning:** Associate stuff to predict what the user might do.\n",
    "\n",
    "**Reinforcement:** Teaching machines through trying and error. Used for skill acquisition and real time learning."
   ]
  }
 ],
 "metadata": {
  "kernelspec": {
   "display_name": "Python 3 (ipykernel)",
   "language": "python",
   "name": "python3"
  },
  "language_info": {
   "codemirror_mode": {
    "name": "ipython",
    "version": 3
   },
   "file_extension": ".py",
   "mimetype": "text/x-python",
   "name": "python",
   "nbconvert_exporter": "python",
   "pygments_lexer": "ipython3",
   "version": "3.10.9"
  }
 },
 "nbformat": 4,
 "nbformat_minor": 5
}
