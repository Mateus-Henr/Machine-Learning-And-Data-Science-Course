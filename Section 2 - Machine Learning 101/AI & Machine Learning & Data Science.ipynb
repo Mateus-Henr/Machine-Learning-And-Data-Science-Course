{
 "cells": [
  {
   "cell_type": "markdown",
   "id": "a1719a96",
   "metadata": {},
   "source": [
    "# A.I.\n",
    "It's a machine that acts like a human in a specific task.\n",
    "\n",
    "\n",
    "# Machine Learning \n",
    "It's a subsection of A.I., summing up, it looks for patterns in a set of data in order to \"learn\". \"Doing things without having to be told\".\n",
    "\n",
    "\n",
    "# Deep Learning \n",
    "One of the tecniques to implement machine learning.\n",
    "\n",
    "\n",
    "# Data Science \n",
    "Very correlated to Machine Learning."
   ]
  }
 ],
 "metadata": {
  "kernelspec": {
   "display_name": "Python 3 (ipykernel)",
   "language": "python",
   "name": "python3"
  },
  "language_info": {
   "codemirror_mode": {
    "name": "ipython",
    "version": 3
   },
   "file_extension": ".py",
   "mimetype": "text/x-python",
   "name": "python",
   "nbconvert_exporter": "python",
   "pygments_lexer": "ipython3",
   "version": "3.10.9"
  }
 },
 "nbformat": 4,
 "nbformat_minor": 5
}
