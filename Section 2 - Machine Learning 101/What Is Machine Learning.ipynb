{
 "cells": [
  {
   "cell_type": "markdown",
   "id": "12842f5b",
   "metadata": {},
   "source": [
    "# What is it?\n",
    "\n",
    "Machine Learning usually tackles topics that usually only humans could do, things that are \"predictable\" or that we cannot describe to a computer. The goal is to make machines more similar to humans in order to make things faster in our society."
   ]
  }
 ],
 "metadata": {
  "kernelspec": {
   "display_name": "Python 3 (ipykernel)",
   "language": "python",
   "name": "python3"
  },
  "language_info": {
   "codemirror_mode": {
    "name": "ipython",
    "version": 3
   },
   "file_extension": ".py",
   "mimetype": "text/x-python",
   "name": "python",
   "nbconvert_exporter": "python",
   "pygments_lexer": "ipython3",
   "version": "3.10.9"
  }
 },
 "nbformat": 4,
 "nbformat_minor": 5
}
