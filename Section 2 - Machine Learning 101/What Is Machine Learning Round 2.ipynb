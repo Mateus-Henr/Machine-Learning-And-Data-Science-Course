{
 "cells": [
  {
   "cell_type": "markdown",
   "id": "244342f7",
   "metadata": {},
   "source": [
    "# What is it?\n",
    "\n",
    "Machine Learning algorithms are also called models.\n",
    "They differ from normal algorithms once normal algorithms start with an input and a recipe to follow to get to a specific output, however when it comes to Machine Learning algorithms it starts with input and an ideal output to get to the recipe.\n",
    "\n",
    "# Data Analysis vs Data Science\n",
    "Data Analysis consists in analysing a set of data in order to get a better understanding of the data.\n",
    "Meanwhile, Machine Learning bases itself off in looking at data and finding patterns in it.\n",
    "Data Science is both of them together."
   ]
  }
 ],
 "metadata": {
  "kernelspec": {
   "display_name": "Python 3 (ipykernel)",
   "language": "python",
   "name": "python3"
  },
  "language_info": {
   "codemirror_mode": {
    "name": "ipython",
    "version": 3
   },
   "file_extension": ".py",
   "mimetype": "text/x-python",
   "name": "python",
   "nbconvert_exporter": "python",
   "pygments_lexer": "ipython3",
   "version": "3.10.9"
  }
 },
 "nbformat": 4,
 "nbformat_minor": 5
}
