{
 "cells": [
  {
   "attachments": {},
   "cell_type": "markdown",
   "id": "4709d17b",
   "metadata": {},
   "source": [
    "# The Three Parts of Modeling  (most important concept in ML)\n",
    "\n",
    "1. **Choosing and training a model**\n",
    "2. **Tuning a model** (It occurs when you want to improve your algorithm based on the validation split.)\n",
    "3. **Model comparison**\n",
    "\n",
    "Data is split into the section below, but the amount of data for each section varies, first is the one that uses 70% of the data, meanwhile the last two divide the rest in a similar amount among themselves.\n",
    "\t\n",
    "![sections](resources/sections.png)\n",
    "\n",
    "## Generalization\n",
    "- It's the ability for a machine learning model to perform well on data it hasn't seen before.\n",
    "- It's important to always try to avoid that your machine become a memorization machine, so it shouldn't know the results beforehand."
   ]
  }
 ],
 "metadata": {
  "kernelspec": {
   "display_name": "Python 3 (ipykernel)",
   "language": "python",
   "name": "python3"
  },
  "language_info": {
   "codemirror_mode": {
    "name": "ipython",
    "version": 3
   },
   "file_extension": ".py",
   "mimetype": "text/x-python",
   "name": "python",
   "nbconvert_exporter": "python",
   "pygments_lexer": "ipython3",
   "version": "3.10.9"
  }
 },
 "nbformat": 4,
 "nbformat_minor": 5
}
