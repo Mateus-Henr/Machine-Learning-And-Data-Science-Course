{
 "cells": [
  {
   "cell_type": "markdown",
   "id": "6b9bb13d",
   "metadata": {},
   "source": [
    "# What Does it Do?\n",
    "\n",
    "It measures how well a machine learning alogorithm predicts the future.\n",
    "\n",
    "![types](resources/types.png)"
   ]
  },
  {
   "cell_type": "code",
   "execution_count": null,
   "id": "47f2b9d1",
   "metadata": {},
   "outputs": [],
   "source": []
  }
 ],
 "metadata": {
  "kernelspec": {
   "display_name": "Python 3 (ipykernel)",
   "language": "python",
   "name": "python3"
  },
  "language_info": {
   "codemirror_mode": {
    "name": "ipython",
    "version": 3
   },
   "file_extension": ".py",
   "mimetype": "text/x-python",
   "name": "python",
   "nbconvert_exporter": "python",
   "pygments_lexer": "ipython3",
   "version": "3.10.9"
  }
 },
 "nbformat": 4,
 "nbformat_minor": 5
}
