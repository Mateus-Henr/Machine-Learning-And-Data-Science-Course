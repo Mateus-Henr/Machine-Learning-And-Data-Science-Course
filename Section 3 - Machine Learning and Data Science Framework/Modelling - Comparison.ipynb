{
 "cells": [
  {
   "cell_type": "markdown",
   "id": "6e971acd",
   "metadata": {},
   "source": [
    "# Types of problems\n",
    "\n",
    "This happens in the last split of machine learning, the test data split. For testing, we usually give the algorithm, data sets that it has never seen before and analyse it. It's not uncommon to see a slightly difference in performance between the training set and the test set, however if this difference is too wide, then there's a problem. They are called:\n",
    "- **Underfitting:** Occurs when the machine learning algorithm does not fit so well to the training data, that it does not generalize well to the testing data. Like it is taking some wild guesses.\n",
    "- **Overfitting:** Occurs when the machine learning algorithm fits so closely to the training data, that it does not generalize well to the testing data. Like it memorized.\n",
    "\n",
    "**Reasons for the missmatch above:**\n",
    "- **Data leakage:** This is when the raining data leaks to the test data (overfitting usually).\n",
    "- **Data mismatch:** Normally happens when you have different features in the training data to the test data (underfitting).\n",
    "- **Another examples that might cause underfitting:**\n",
    "\t- Try a more advanced model\n",
    "\t- Increase model hyperparameters\n",
    "\t- Reduce amount of features\n",
    "\t- Train longer\n",
    "- **Reducing overfitting:**\n",
    "\t- Collect more data\n",
    "\t- Try a less advanced model\n",
    "\n",
    "When comparing model, always take into account the accuracy, training time and prediction time.\n",
    "A model should head towards generality."
   ]
  }
 ],
 "metadata": {
  "kernelspec": {
   "display_name": "Python 3 (ipykernel)",
   "language": "python",
   "name": "python3"
  },
  "language_info": {
   "codemirror_mode": {
    "name": "ipython",
    "version": 3
   },
   "file_extension": ".py",
   "mimetype": "text/x-python",
   "name": "python",
   "nbconvert_exporter": "python",
   "pygments_lexer": "ipython3",
   "version": "3.10.9"
  }
 },
 "nbformat": 4,
 "nbformat_minor": 5
}
