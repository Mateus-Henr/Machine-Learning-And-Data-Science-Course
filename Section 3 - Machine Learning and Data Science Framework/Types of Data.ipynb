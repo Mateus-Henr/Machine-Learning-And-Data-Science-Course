{
 "cells": [
  {
   "attachments": {},
   "cell_type": "markdown",
   "id": "0cda56d7",
   "metadata": {},
   "source": [
    "# What are the types of data\n",
    "\n",
    "- **Structured data:** Files that consists of rows and columns (excel, .csv).\n",
    "- **Unstructed data:** - Images, audios, videos, emails etc. \n",
    "- **Static data:** It doesn't change overtime. CSV is the most common.\n",
    "- **Streaming data:** It changes overtime. Stock prediction is an example. It could be considered as the next step from static data\n",
    "\n",
    "## A Default Data Science Workflow\n",
    "![workflow](resources/workflow.png)"
   ]
  }
 ],
 "metadata": {
  "kernelspec": {
   "display_name": "Python 3 (ipykernel)",
   "language": "python",
   "name": "python3"
  },
  "language_info": {
   "codemirror_mode": {
    "name": "ipython",
    "version": 3
   },
   "file_extension": ".py",
   "mimetype": "text/x-python",
   "name": "python",
   "nbconvert_exporter": "python",
   "pygments_lexer": "ipython3",
   "version": "3.10.9"
  }
 },
 "nbformat": 4,
 "nbformat_minor": 5
}
