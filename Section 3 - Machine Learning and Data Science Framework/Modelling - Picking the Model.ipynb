{
 "cells": [
  {
   "cell_type": "markdown",
   "id": "bb318f6a",
   "metadata": {},
   "source": [
    "# Tools for each type of data\n",
    "- **Structured Data:** Decision trees like CatBost or dmlc XGBoost are options.\n",
    "- **Unstructured Data:** Deep learning and transfer learning are what to go for.\n",
    "\n",
    "* **Training a model:** You will be lining up the inputs and outputs, using that data to predict the labels.\n",
    "\n",
    "> **Goal:** Minimise time between experiments."
   ]
  },
  {
   "cell_type": "markdown",
   "source": [
    "# Structured Data\n",
    "\n",
    "## Definition\n",
    "Structured data refers to data that is organized and stored in a predefined format. It typically resides in fixed fields within a record or file, and the format is well-defined and known in advance.\n",
    "\n",
    "## Characteristics\n",
    "- Organized: Data is organized into rows and columns, similar to a table in a relational database.\n",
    "- Clear Schema: There is a well-defined schema that specifies the data types and constraints for each column.\n",
    "- Queryable: Structured data is easily queryable using SQL or other query languages.\n",
    "- Examples: Relational databases, spreadsheets, CSV files, XML, JSON (when structured).\n",
    "\n",
    "# Unstructured Data\n",
    "\n",
    "## Definition\n",
    "Unstructured data refers to data that does not have a predefined data model or organization. It lacks a clear structure and is often human-generated or natural language text.\n",
    "\n",
    "## Characteristics\n",
    "- No Fixed Format: Unstructured data does not follow a fixed format or schema.\n",
    "- Varied Types: It can include text, images, videos, audio recordings, social media posts, emails, etc.\n",
    "- Difficult to Analyze: Unstructured data is more challenging to analyze compared to structured data due to its lack of organization.\n",
    "- Examples: Text documents (e.g., Word documents, PDFs), social media posts, emails, multimedia content.\n",
    "\n",
    "# Semi-Structured Data\n",
    "\n",
    "## Definition\n",
    "Semi-structured data lies between structured and unstructured data. It has some organizational properties, such as tags or markers, but it does not conform to a rigid schema.\n",
    "\n",
    "## Characteristics\n",
    "- Flexible Structure: Semi-structured data has a flexible structure that allows for variability in the data format.\n",
    "- Partially Organized: It may contain some level of organization, such as key-value pairs or markup tags.\n",
    "- Examples: XML, JSON, NoSQL databases, log files."
   ],
   "metadata": {
    "collapsed": false
   },
   "id": "ed512c71e83fe35f"
  }
 ],
 "metadata": {
  "kernelspec": {
   "display_name": "Python 3 (ipykernel)",
   "language": "python",
   "name": "python3"
  },
  "language_info": {
   "codemirror_mode": {
    "name": "ipython",
    "version": 3
   },
   "file_extension": ".py",
   "mimetype": "text/x-python",
   "name": "python",
   "nbconvert_exporter": "python",
   "pygments_lexer": "ipython3",
   "version": "3.10.9"
  }
 },
 "nbformat": 4,
 "nbformat_minor": 5
}
