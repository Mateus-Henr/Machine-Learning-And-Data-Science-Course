{
 "cells": [
  {
   "cell_type": "markdown",
   "id": "bb318f6a",
   "metadata": {},
   "source": [
    "# Tools for each type of data\n",
    "- **Structured Data:** Decision trees like CatBost or dmlc XGBoost are options.\n",
    "- **Unstructured Data:** Deep learning and transfer learning are what to go for.\n",
    "\n",
    "* **Training a model:** You will be lining up the inputs and outputs, using that data to predict the labels.\n",
    "\n",
    "> **Goal:** Minimise time between experiments."
   ]
  },
  {
   "cell_type": "code",
   "execution_count": null,
   "id": "5b1737a1",
   "metadata": {},
   "outputs": [],
   "source": []
  }
 ],
 "metadata": {
  "kernelspec": {
   "display_name": "Python 3 (ipykernel)",
   "language": "python",
   "name": "python3"
  },
  "language_info": {
   "codemirror_mode": {
    "name": "ipython",
    "version": 3
   },
   "file_extension": ".py",
   "mimetype": "text/x-python",
   "name": "python",
   "nbconvert_exporter": "python",
   "pygments_lexer": "ipython3",
   "version": "3.10.9"
  }
 },
 "nbformat": 4,
 "nbformat_minor": 5
}
