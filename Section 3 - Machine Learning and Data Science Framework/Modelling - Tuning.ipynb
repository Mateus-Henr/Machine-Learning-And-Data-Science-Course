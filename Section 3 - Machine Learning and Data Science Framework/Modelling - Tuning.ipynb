{
 "cells": [
  {
   "cell_type": "markdown",
   "id": "8e7ecf20",
   "metadata": {},
   "source": [
    "# When does it happen?\n",
    "\n",
    "It usually takes place in a validation data split, but it might take place on training as well.\n",
    "Turning is basically adjust settings to improve predictions, some settings (hyperparameters) that can be altered are:\n",
    "- **Random Forest:** The number of trees\n",
    "- **Neural Networks:** The number of layers.\n"
   ]
  }
 ],
 "metadata": {
  "kernelspec": {
   "display_name": "Python 3 (ipykernel)",
   "language": "python",
   "name": "python3"
  },
  "language_info": {
   "codemirror_mode": {
    "name": "ipython",
    "version": 3
   },
   "file_extension": ".py",
   "mimetype": "text/x-python",
   "name": "python",
   "nbconvert_exporter": "python",
   "pygments_lexer": "ipython3",
   "version": "3.10.9"
  }
 },
 "nbformat": 4,
 "nbformat_minor": 5
}
