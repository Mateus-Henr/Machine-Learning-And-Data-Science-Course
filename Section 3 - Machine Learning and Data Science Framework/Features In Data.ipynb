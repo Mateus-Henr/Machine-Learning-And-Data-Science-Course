{
 "cells": [
  {
   "cell_type": "markdown",
   "id": "c08d9ebb",
   "metadata": {},
   "source": [
    "# What are features?\n",
    "\n",
    "Features consists of different types of data.\n",
    "Different types of data can be referred to as feature variables. Feature variables are used to get to the target variables. In other words, \"feature variables\" would be the input, whereas \"target varaibles\" would be the output.\n",
    "\n",
    "**Types of Feature Variables**\n",
    "- **Numerical features:** Number (weight).\n",
    "- **Categorical features:** One thing or another (sex).\n",
    "- **Derived variable (feature engineering):** When new features are created from an existing one.\n",
    "\n",
    "**OBS:** Be aware of the features that you're gonna be implementing. Machine learning alogrithms perform better in similar data, so if the data is too broad, the perform might not be as good as expected. Feature coverage is the name given to ensure that all samples have similar info."
   ]
  },
  {
   "cell_type": "code",
   "execution_count": null,
   "id": "cc288bad",
   "metadata": {},
   "outputs": [],
   "source": []
  }
 ],
 "metadata": {
  "kernelspec": {
   "display_name": "Python 3 (ipykernel)",
   "language": "python",
   "name": "python3"
  },
  "language_info": {
   "codemirror_mode": {
    "name": "ipython",
    "version": 3
   },
   "file_extension": ".py",
   "mimetype": "text/x-python",
   "name": "python",
   "nbconvert_exporter": "python",
   "pygments_lexer": "ipython3",
   "version": "3.10.9"
  }
 },
 "nbformat": 4,
 "nbformat_minor": 5
}
