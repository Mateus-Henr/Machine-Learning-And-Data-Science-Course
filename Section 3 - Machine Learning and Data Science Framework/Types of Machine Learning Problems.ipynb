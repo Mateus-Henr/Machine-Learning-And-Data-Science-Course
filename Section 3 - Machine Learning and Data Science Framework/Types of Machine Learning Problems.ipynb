{
 "cells": [
  {
   "attachments": {},
   "cell_type": "markdown",
   "id": "55c916cf",
   "metadata": {},
   "source": [
    "## When You Shouldn't Use Machine Learning\n",
    "\n",
    "- When an imperative programming code is enough to solve the problem.\n",
    "\n",
    "\n",
    "## Main Types of Machine Learning\n",
    "\n",
    "- **Supervised Learning:** There's data and labels. The machine essentially attempts to guess the label. It repeats the process of guessing and improving itself at each time.\n",
    "\n",
    "- **Classification:** Identifying if it's one thing or another. Guessing a dog breed for instance.\n",
    "     - **Binary classification** - Two options.\n",
    "     - **Multi-class classfication** - More than two options.\n",
    "\n",
    "- **Regression:** Trying to predict a number. Stock market prediction is an example.\n",
    "\n",
    "- **Unsupervised Learning:** There is data but no label. It watches out for patterns in order to classify items. Recomendation problems fit into this box.\n",
    "\n",
    "- **Transfer Learning:** This is when we train an already existing machine learning algorithm to change its target.\n",
    "\n",
    "- **Reinforcement Learning:** This is based on trying and error.\n",
    "\n",
    "\n",
    "### Conclusion\n",
    "Always match Your problem to the most preferable type of machine learning.\n",
    "- **Supervised learning:** When you know the inputs and outputs.\n",
    "- **Unsupervised learning:** When you have inputs.\n",
    "- **Transfer learning:** Problem similar to an already existing one."
   ]
  }
 ],
 "metadata": {
  "kernelspec": {
   "display_name": "Python 3 (ipykernel)",
   "language": "python",
   "name": "python3"
  },
  "language_info": {
   "codemirror_mode": {
    "name": "ipython",
    "version": 3
   },
   "file_extension": ".py",
   "mimetype": "text/x-python",
   "name": "python",
   "nbconvert_exporter": "python",
   "pygments_lexer": "ipython3",
   "version": "3.10.9"
  }
 },
 "nbformat": 4,
 "nbformat_minor": 5
}
