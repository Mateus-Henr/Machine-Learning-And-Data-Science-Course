{
  "cells": [
    {
      "cell_type": "markdown",
      "source": [
        "# End-to-end Multil-class Dog Breed Classification\n",
        "\n",
        "## 1. Problem\n",
        "Identifying the breed of a dog given an image of a dog.\n",
        "\n",
        "## 2. Data\n",
        "\n",
        "Dataset from Kaggle: https://www.kaggle.com/c/dog-breed-identification/data\n",
        "\n",
        "## 3. Evaluation\n",
        "\n",
        "It's a file with prediction probabilities for each dog breed for each test image.\n",
        "\n",
        "## 4. Features\n",
        "\n",
        "Data info:\n",
        "* Images (unstructured data).\n",
        "* There are 120 breeds of dogs.\n",
        "* There are around 10,000 images in the training set (images with labels).\n",
        "* There are around 10,000 images in the test set (images without labels)."
      ],
      "metadata": {
        "id": "3Sa8mG5y3FID"
      },
      "id": "3Sa8mG5y3FID"
    },
    {
      "cell_type": "code",
      "source": [
        "from google.colab import drive\n",
        "drive.mount('/content/drive')"
      ],
      "metadata": {
        "colab": {
          "base_uri": "https://localhost:8080/"
        },
        "id": "anRUxWw41-8c",
        "outputId": "ec8ed2f0-9f25-4428-f178-144f9215c78b"
      },
      "id": "anRUxWw41-8c",
      "execution_count": 7,
      "outputs": [
        {
          "output_type": "stream",
          "name": "stdout",
          "text": [
            "Drive already mounted at /content/drive; to attempt to forcibly remount, call drive.mount(\"/content/drive\", force_remount=True).\n"
          ]
        }
      ]
    },
    {
      "cell_type": "code",
      "source": [
        "#!unzip \"drive/MyDrive/ML/DogBreed/dog-breed-identification.zip\" -d \"drive/MyDrive/ML/DogBreed/\""
      ],
      "metadata": {
        "id": "rY-V-y0K1_xA"
      },
      "id": "rY-V-y0K1_xA",
      "execution_count": 8,
      "outputs": []
    },
    {
      "cell_type": "markdown",
      "source": [
        "### Workspace Setup"
      ],
      "metadata": {
        "id": "cojpK86_2WMN"
      },
      "id": "cojpK86_2WMN"
    },
    {
      "cell_type": "code",
      "source": [
        "import tensorflow as tf\n",
        "\n",
        "print(\"TF version:\", tf.__version__)"
      ],
      "metadata": {
        "colab": {
          "base_uri": "https://localhost:8080/"
        },
        "id": "A87XBbMT4yuK",
        "outputId": "51382b11-e554-4dfb-b34c-9a49f0195698"
      },
      "id": "A87XBbMT4yuK",
      "execution_count": 9,
      "outputs": [
        {
          "output_type": "stream",
          "name": "stdout",
          "text": [
            "TF version: 2.15.0\n"
          ]
        }
      ]
    },
    {
      "cell_type": "code",
      "source": [],
      "metadata": {
        "id": "AG924YNY469M"
      },
      "id": "AG924YNY469M",
      "execution_count": null,
      "outputs": []
    }
  ],
  "metadata": {
    "kernelspec": {
      "display_name": "Python 3",
      "language": "python",
      "name": "python3"
    },
    "language_info": {
      "codemirror_mode": {
        "name": "ipython",
        "version": 2
      },
      "file_extension": ".py",
      "mimetype": "text/x-python",
      "name": "python",
      "nbconvert_exporter": "python",
      "pygments_lexer": "ipython2",
      "version": "2.7.6"
    },
    "colab": {
      "provenance": []
    }
  },
  "nbformat": 4,
  "nbformat_minor": 5
}